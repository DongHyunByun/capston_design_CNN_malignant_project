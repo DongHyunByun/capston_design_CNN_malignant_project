{
 "cells": [
  {
   "cell_type": "code",
   "execution_count": 1,
   "metadata": {},
   "outputs": [],
   "source": [
    "import json\n",
    "import os\n",
    "import numpy as np\n",
    "\n",
    "dir=\"folder\"\n",
    "#dir폴더의 모든 파일들 이름 저장\n",
    "subdir_names = os.listdir(dir)\n",
    "size=len(subdir_names)\n",
    "\n",
    "class_train=[]\n",
    "class_test=[]\n",
    "\n",
    "for i in range(0,size,2):\n",
    "    #첫번쨰는 사진, 두번쨰는 josn\n",
    "    name_of_json=subdir_names[i+1]\n",
    "    \n",
    "    json_path=\"./\"+dir+\"/\"+name_of_json\n",
    "    try:\n",
    "    #json 파일에서 클래스 추출\n",
    "        with open(json_path) as json_file:\n",
    "            json_data=json.load(json_file)\n",
    "            clas=json_data[\"meta\"][\"clinical\"][\"benign_malignant\"]\n",
    "            if clas==\"benign\":\n",
    "                if len(class_train)<10000:\n",
    "                    class_train.append(0)\n",
    "                else:\n",
    "                    class_test.append(0)\n",
    "            elif clas==\"malignant\":\n",
    "                if len(class_train)<10000:\n",
    "                    class_train.append(1)\n",
    "                else:\n",
    "                    class_test.append(1)\n",
    "            else:\n",
    "                continue\n",
    "         \n",
    "    except:\n",
    "        continue"
   ]
  },
  {
   "cell_type": "code",
   "execution_count": 3,
   "metadata": {},
   "outputs": [
    {
     "name": "stdout",
     "output_type": "stream",
     "text": [
      "총개수 : 12162\n",
      "\n",
      "train개수 : 10000\n",
      "피부암    : 1699\n",
      "점        : 8301\n",
      "\n",
      "test개수  : 2162\n",
      "피부암    :  496\n",
      "점        : 1666\n"
     ]
    }
   ],
   "source": [
    "print(\"총개수 :\",len(class_train)+len(class_test))\n",
    "print()\n",
    "print(\"train개수 :\",len(class_train))\n",
    "print(\"피부암    :\",class_train.count(1))\n",
    "print(\"점        :\",class_train.count(0))\n",
    "print()\n",
    "print(\"test개수  :\", len(class_test))\n",
    "print(\"피부암    : \",class_test.count(1))\n",
    "print(\"점        :\",class_test.count(0))"
   ]
  }
 ],
 "metadata": {
  "kernelspec": {
   "display_name": "Python 3",
   "language": "python",
   "name": "python3"
  },
  "language_info": {
   "codemirror_mode": {
    "name": "ipython",
    "version": 3
   },
   "file_extension": ".py",
   "mimetype": "text/x-python",
   "name": "python",
   "nbconvert_exporter": "python",
   "pygments_lexer": "ipython3",
   "version": "3.7.3"
  }
 },
 "nbformat": 4,
 "nbformat_minor": 2
}
